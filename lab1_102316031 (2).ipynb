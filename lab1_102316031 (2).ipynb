{
  "nbformat": 4,
  "nbformat_minor": 0,
  "metadata": {
    "colab": {
      "provenance": []
    },
    "kernelspec": {
      "name": "python3",
      "display_name": "Python 3"
    },
    "language_info": {
      "name": "python"
    }
  },
  "cells": [
    {
      "cell_type": "code",
      "execution_count": null,
      "metadata": {
        "colab": {
          "base_uri": "https://localhost:8080/"
        },
        "id": "KcimEIeE3DGr",
        "outputId": "2828f861-b2bb-4f5c-c7fa-e533e89a51b6"
      },
      "outputs": [
        {
          "output_type": "stream",
          "name": "stdout",
          "text": [
            "JASVIN TANEJA\n",
            "JASVIN TANEJA\n",
            "JASVIN TANEJA\n"
          ]
        }
      ],
      "source": [
        "for i in range(3):\n",
        "  print(\"JASVIN TANEJA\")"
      ]
    },
    {
      "cell_type": "code",
      "source": [
        "a=10\n",
        "b=20\n",
        "c=30\n",
        "print(a,\"+\",b,\"+\",c,\"=\",a+b+c)"
      ],
      "metadata": {
        "colab": {
          "base_uri": "https://localhost:8080/"
        },
        "id": "2vOibmyu3Ujx",
        "outputId": "6a96e3a1-c774-47a7-ff33-4d2a5c319846"
      },
      "execution_count": null,
      "outputs": [
        {
          "output_type": "stream",
          "name": "stdout",
          "text": [
            "10 + 20 + 30 = 60\n"
          ]
        }
      ]
    },
    {
      "cell_type": "code",
      "source": [
        "a=\"hello\"\n",
        "b=\"my\"\n",
        "c=\"world\"\n",
        "print(a+b+c)"
      ],
      "metadata": {
        "colab": {
          "base_uri": "https://localhost:8080/"
        },
        "id": "1ikZWnGZ4YzS",
        "outputId": "5dbf3965-2981-4c50-97e3-93ea3446690c"
      },
      "execution_count": null,
      "outputs": [
        {
          "output_type": "stream",
          "name": "stdout",
          "text": [
            "hellomyworld\n"
          ]
        }
      ]
    },
    {
      "cell_type": "code",
      "source": [
        "for i in range(1,11,1):\n",
        "  print(7,\"x\",i,\"=\",7*i,\"   \",9,\"x\",i,\"=\",9*i)\n",
        "  print(\"\\n\")"
      ],
      "metadata": {
        "colab": {
          "base_uri": "https://localhost:8080/"
        },
        "id": "sBQBWAGv54BG",
        "outputId": "c9cf35d9-1442-4529-dd2d-6692cd002117"
      },
      "execution_count": null,
      "outputs": [
        {
          "output_type": "stream",
          "name": "stdout",
          "text": [
            "7 x 1 = 7     9 x 1 = 9\n",
            "\n",
            "\n",
            "7 x 2 = 14     9 x 2 = 18\n",
            "\n",
            "\n",
            "7 x 3 = 21     9 x 3 = 27\n",
            "\n",
            "\n",
            "7 x 4 = 28     9 x 4 = 36\n",
            "\n",
            "\n",
            "7 x 5 = 35     9 x 5 = 45\n",
            "\n",
            "\n",
            "7 x 6 = 42     9 x 6 = 54\n",
            "\n",
            "\n",
            "7 x 7 = 49     9 x 7 = 63\n",
            "\n",
            "\n",
            "7 x 8 = 56     9 x 8 = 72\n",
            "\n",
            "\n",
            "7 x 9 = 63     9 x 9 = 81\n",
            "\n",
            "\n",
            "7 x 10 = 70     9 x 10 = 90\n",
            "\n",
            "\n"
          ]
        }
      ]
    },
    {
      "cell_type": "code",
      "source": [
        "n=int(input(\"enter any integer of your choice\\n\"))\n",
        "for i in range(1,11,1):\n",
        "   print(n,\"x\",i,\"=\",n*i)\n"
      ],
      "metadata": {
        "colab": {
          "base_uri": "https://localhost:8080/"
        },
        "id": "StanCpSI5494",
        "outputId": "e1d9f5b4-8914-4cb3-8214-9ee72e974421"
      },
      "execution_count": null,
      "outputs": [
        {
          "output_type": "stream",
          "name": "stdout",
          "text": [
            "enter any integer of your choice\n",
            "2\n",
            "2 x 1 = 2\n",
            "2 x 2 = 4\n",
            "2 x 3 = 6\n",
            "2 x 4 = 8\n",
            "2 x 5 = 10\n",
            "2 x 6 = 12\n",
            "2 x 7 = 14\n",
            "2 x 8 = 16\n",
            "2 x 9 = 18\n",
            "2 x 10 = 20\n"
          ]
        }
      ]
    },
    {
      "cell_type": "code",
      "source": [
        "n=int(input(\"Enter a number\\n\"))\n",
        "sum=0\n",
        "for i in range(1,n+1,1):\n",
        "  sum=sum+i\n",
        "print(sum)\n"
      ],
      "metadata": {
        "id": "DwL3yM-D59to",
        "colab": {
          "base_uri": "https://localhost:8080/"
        },
        "outputId": "264389c9-2d02-4652-91b1-4be02690aa20"
      },
      "execution_count": 8,
      "outputs": [
        {
          "output_type": "stream",
          "name": "stdout",
          "text": [
            "Enter a number\n",
            "13\n",
            "91\n"
          ]
        }
      ]
    },
    {
      "cell_type": "code",
      "source": [
        "a=int(input(\"enter first number\\n\"))\n",
        "b=int(input(\"enter second number\\n\"))\n",
        "c=int(input(\"enter third number\\n\"))\n",
        "max_no=max(a,b,c)\n",
        "print(\"max= \",max_no)"
      ],
      "metadata": {
        "id": "vqhgRgUM6Q2v",
        "colab": {
          "base_uri": "https://localhost:8080/"
        },
        "outputId": "908751a0-50d7-4346-e3c7-387d2e64d8eb"
      },
      "execution_count": 9,
      "outputs": [
        {
          "output_type": "stream",
          "name": "stdout",
          "text": [
            "enter first number\n",
            "23\n",
            "enter second number\n",
            "13\n",
            "enter third number\n",
            "11\n",
            "max=  23\n"
          ]
        }
      ]
    },
    {
      "cell_type": "code",
      "source": [
        "n=int(input(\"enter first number\\n\"))\n",
        "sum=0;\n",
        "for i in range(1,n+1,1):\n",
        "  if(i%7==0 and i%9==0):\n",
        "    sum=sum+i\n",
        "print(sum)"
      ],
      "metadata": {
        "colab": {
          "base_uri": "https://localhost:8080/"
        },
        "id": "HHu7E8wHHY2x",
        "outputId": "b13e4951-da2f-4f5d-bedc-ad58b1d099d6"
      },
      "execution_count": 14,
      "outputs": [
        {
          "output_type": "stream",
          "name": "stdout",
          "text": [
            "enter first number\n",
            "23\n",
            "0\n"
          ]
        }
      ]
    },
    {
      "cell_type": "code",
      "source": [
        "n = int(input(\"Enter a No: \"))\n",
        "sum = 0\n",
        "\n",
        "def is_prime(n):\n",
        "    if n <= 1:\n",
        "        return False\n",
        "    for i in range(2, int(n//2) + 1):\n",
        "        if n % i == 0:\n",
        "            return False\n",
        "    return True\n",
        "\n",
        "for i in range(2, n + 1):\n",
        "    if is_prime(i):\n",
        "        sum += i\n",
        "\n",
        "print(sum)\n"
      ],
      "metadata": {
        "id": "XqtQKRjl6YAn",
        "colab": {
          "base_uri": "https://localhost:8080/"
        },
        "outputId": "0df9e18c-5966-48a1-bbf2-8a4503d4a62b"
      },
      "execution_count": 10,
      "outputs": [
        {
          "output_type": "stream",
          "name": "stdout",
          "text": [
            "Enter a No: 10\n",
            "17\n"
          ]
        }
      ]
    },
    {
      "cell_type": "code",
      "source": [
        "n=int(input(\"enter first number\\n\"))\n",
        "sum=0\n",
        "for i in range(1,n+1,2):\n",
        "  sum=sum+i\n",
        "print(sum)"
      ],
      "metadata": {
        "id": "n2cNldqv6ZG8",
        "colab": {
          "base_uri": "https://localhost:8080/"
        },
        "outputId": "43d1e605-0fd5-46d7-87a4-4aef807798c8"
      },
      "execution_count": 11,
      "outputs": [
        {
          "output_type": "stream",
          "name": "stdout",
          "text": [
            "enter first number\n",
            "55\n",
            "784\n"
          ]
        }
      ]
    },
    {
      "cell_type": "code",
      "source": [
        "n = int(input(\"Enter a No: \"))\n",
        "sum = 0\n",
        "\n",
        "def is_prime(n):\n",
        "    if n <= 1:\n",
        "        return False\n",
        "    for i in range(2, int(n//2) + 1):\n",
        "        if n % i == 0:\n",
        "            return False\n",
        "    return True\n",
        "\n",
        "for i in range(2, n + 1):\n",
        "    if is_prime(i):\n",
        "        sum += i\n",
        "\n",
        "print(sum)"
      ],
      "metadata": {
        "id": "RSzodDTZ6ce9",
        "colab": {
          "base_uri": "https://localhost:8080/"
        },
        "outputId": "6efb7e12-c4ae-4085-cb3e-a17d3ec8d23a"
      },
      "execution_count": 12,
      "outputs": [
        {
          "output_type": "stream",
          "name": "stdout",
          "text": [
            "Enter a No: 23\n",
            "100\n"
          ]
        }
      ]
    }
  ]
}